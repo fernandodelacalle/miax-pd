{
 "cells": [
  {
   "cell_type": "code",
   "execution_count": 3,
   "id": "71c2fa1d-5daf-487f-95e0-65f36d2ee295",
   "metadata": {},
   "outputs": [],
   "source": [
    "import os\n",
    "from pymongo import MongoClient"
   ]
  },
  {
   "cell_type": "markdown",
   "id": "465f8ae2-6fe9-42a7-89fd-be8173494ddf",
   "metadata": {},
   "source": [
    "- El docker-compose levanta un mongo que podemos usar desde aquí."
   ]
  },
  {
   "cell_type": "code",
   "execution_count": 6,
   "id": "dd3103f9-bbe7-439e-b411-1e55b176e43d",
   "metadata": {},
   "outputs": [],
   "source": [
    "mongo_dir = os.getenv('Mongo')"
   ]
  },
  {
   "cell_type": "code",
   "execution_count": 7,
   "id": "ca66a303-bf46-4393-a82a-c2c3b37ddd69",
   "metadata": {},
   "outputs": [],
   "source": [
    "client = MongoClient(mongo_dir)"
   ]
  },
  {
   "cell_type": "code",
   "execution_count": 8,
   "id": "fc9d73f8-5499-45c3-973c-3e07c2f9ab0d",
   "metadata": {},
   "outputs": [],
   "source": [
    "db = client['test_db']"
   ]
  },
  {
   "cell_type": "code",
   "execution_count": 12,
   "id": "9a15b1d9-7e5c-4791-8ca8-39b9a298e978",
   "metadata": {},
   "outputs": [],
   "source": [
    "col = db['test_coll']"
   ]
  },
  {
   "cell_type": "code",
   "execution_count": 13,
   "id": "07ebc357-b3c6-4c8f-8434-3aeaa0a9a81d",
   "metadata": {},
   "outputs": [
    {
     "data": {
      "text/plain": [
       "<pymongo.results.InsertOneResult at 0x7fbf8f256280>"
      ]
     },
     "execution_count": 13,
     "metadata": {},
     "output_type": "execute_result"
    }
   ],
   "source": [
    "col.insert_one({'name':'test'})"
   ]
  },
  {
   "cell_type": "markdown",
   "id": "b8bbadbb-865b-409f-a4f5-e214a163b4f3",
   "metadata": {},
   "source": [
    "Puedes mirar el resultado en http://0.0.0.0:33119/"
   ]
  }
 ],
 "metadata": {
  "kernelspec": {
   "display_name": "Python 3",
   "language": "python",
   "name": "python3"
  },
  "language_info": {
   "codemirror_mode": {
    "name": "ipython",
    "version": 3
   },
   "file_extension": ".py",
   "mimetype": "text/x-python",
   "name": "python",
   "nbconvert_exporter": "python",
   "pygments_lexer": "ipython3",
   "version": "3.7.9"
  }
 },
 "nbformat": 4,
 "nbformat_minor": 5
}
